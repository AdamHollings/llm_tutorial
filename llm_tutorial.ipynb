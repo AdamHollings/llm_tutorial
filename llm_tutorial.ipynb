{
 "cells": [
  {
   "cell_type": "markdown",
   "metadata": {},
   "source": [
    "# LLM RAG Tutorial\n",
    "This tutorial will give you a simple introduction to how to get started with an LLM to make a simple RAG app.\n",
    "\n",
    "RAG (Retrieval Augmented Generation) allows us to give foundational models local context, without doing expensive fine-tuning and can be done even normal everyday machines like your laptop.\n",
    "The basic idea is that we store documents as vectors in a database. When the user asks a question to the LLM, we can use langchain to first pass that question to the vector database, which retrieves relevant documents (these can be broken up into chunks, given metadata, summarised and various other steps to improve retrieval). The original question and these documents are then passed to the LLM (e.g. Claude) which then gives back the answer. So, in effect the model seems like it knows about what was in the database, e.g. local knowledge about your business, or hobby or whatever, whe in reality, that information was just injected into the prompt just prior to the model seeing it!\n",
    "\n",
    "The main libraries we will use are:\n",
    "- Langchain: which is basically a wrapper around the various LLMs and other tools to make it more consistent (so you can swap say.. OpenAI for Anthropic, easily)\n",
    "- Anthropic: which is the library through which we will access the Claude model (more on why this is chosen below)\n",
    "- ChromaDB: this is a simple vector database, which is a key part of the RAG model.\n",
    "- sentence-transformer: this is an open-source model for embedding text\n",
    "\n",
    "None of the above are \"the best\" tools - they're just examples, and you may whish to use difference embedding models, LLMs, vector databases, etc."
   ]
  },
  {
   "cell_type": "code",
   "execution_count": null,
   "metadata": {},
   "outputs": [],
   "source": []
  }
 ],
 "metadata": {
  "kernelspec": {
   "display_name": "Python 3",
   "language": "python",
   "name": "python3"
  },
  "language_info": {
   "name": "python",
   "version": "3.11.0"
  }
 },
 "nbformat": 4,
 "nbformat_minor": 2
}
